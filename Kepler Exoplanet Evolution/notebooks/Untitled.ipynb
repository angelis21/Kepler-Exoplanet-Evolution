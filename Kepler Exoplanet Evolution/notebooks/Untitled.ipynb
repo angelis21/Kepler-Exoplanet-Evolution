{
 "cells": [
  {
   "cell_type": "code",
   "execution_count": 2,
   "metadata": {},
   "outputs": [],
   "source": [
    "%matplotlib inline\n",
    "\n",
    "from astropy.io import fits"
   ]
  },
  {
   "cell_type": "code",
   "execution_count": 3,
   "metadata": {},
   "outputs": [],
   "source": [
    "hdu_list = fits.open('/Users/tdavid/Dropbox (Simons Foundation)/gaia/gaia_edr3_100pc_10sigma_ruwe_lt_2.fits')\n"
   ]
  },
  {
   "cell_type": "code",
   "execution_count": 4,
   "metadata": {},
   "outputs": [
    {
     "name": "stdout",
     "output_type": "stream",
     "text": [
      "ColDefs(\n",
      "    name = 'SOURCE_ID'; format = 'K'\n",
      "    name = 'RA'; format = 'D'\n",
      "    name = 'DEC'; format = 'D'\n",
      "    name = 'PMRA'; format = 'D'\n",
      "    name = 'PMDEC'; format = 'D'\n",
      "    name = 'PARALLAX'; format = 'D'\n",
      "    name = 'PHOT_G_MEAN_MAG'; format = 'E'\n",
      "    name = 'PHOT_BP_MEAN_MAG'; format = 'E'\n",
      "    name = 'PHOT_RP_MEAN_MAG'; format = 'E'\n",
      "    name = 'PARALLAX_ERROR'; format = 'E'\n",
      "    name = 'PMRA_ERROR'; format = 'E'\n",
      "    name = 'PMDEC_ERROR'; format = 'E'\n",
      "    name = 'RUWE'; format = 'E'\n",
      "    name = 'DR2_RADIAL_VELOCITY'; format = 'E'\n",
      "    name = 'DR2_RADIAL_VELOCITY_ERROR'; format = 'E'\n",
      ")\n"
     ]
    }
   ],
   "source": [
    "print(hdu_list[1].columns)\n"
   ]
  },
  {
   "cell_type": "code",
   "execution_count": 5,
   "metadata": {},
   "outputs": [],
   "source": [
    "from astropy.table import Table\n",
    "\n",
    "data = Table(hdu_list[1].data)"
   ]
  },
  {
   "cell_type": "code",
   "execution_count": 6,
   "metadata": {},
   "outputs": [
    {
     "data": {
      "text/html": [
       "<i>Table length=219892</i>\n",
       "<table id=\"table140197530805200\" class=\"table-striped table-bordered table-condensed\">\n",
       "<thead><tr><th>SOURCE_ID</th><th>RA</th><th>DEC</th><th>PMRA</th><th>PMDEC</th><th>PARALLAX</th><th>PHOT_G_MEAN_MAG</th><th>PHOT_BP_MEAN_MAG</th><th>PHOT_RP_MEAN_MAG</th><th>PARALLAX_ERROR</th><th>PMRA_ERROR</th><th>PMDEC_ERROR</th><th>RUWE</th><th>DR2_RADIAL_VELOCITY</th><th>DR2_RADIAL_VELOCITY_ERROR</th></tr></thead>\n",
       "<thead><tr><th>int64</th><th>float64</th><th>float64</th><th>float64</th><th>float64</th><th>float64</th><th>float32</th><th>float32</th><th>float32</th><th>float32</th><th>float32</th><th>float32</th><th>float32</th><th>float32</th><th>float32</th></tr></thead>\n",
       "<tr><td>2060772110911836800</td><td>302.3525977645142</td><td>37.165753725512126</td><td>8.680704165848157</td><td>34.670837848110416</td><td>11.705682067194678</td><td>12.703084</td><td>13.599332</td><td>11.721476</td><td>0.021492396</td><td>0.025890637</td><td>0.025285045</td><td>1.9566131</td><td>-7.85652</td><td>7.9898043</td></tr>\n",
       "<tr><td>2059258495721163392</td><td>302.13302571238563</td><td>36.792492105162175</td><td>36.05864729447675</td><td>42.91674356089226</td><td>16.185215170124504</td><td>10.114978</td><td>10.611381</td><td>9.462236</td><td>0.01255183</td><td>0.012464459</td><td>0.013209747</td><td>0.945186</td><td>-54.715717</td><td>0.19426277</td></tr>\n",
       "<tr><td>2061572898979115136</td><td>302.80354182430113</td><td>37.96335974983874</td><td>144.72030573921424</td><td>-119.28244066810987</td><td>29.311371469120427</td><td>10.984141</td><td>12.066932</td><td>9.946714</td><td>0.02468575</td><td>0.028205652</td><td>0.026676489</td><td>0.9955967</td><td>-66.92955</td><td>0.3772401</td></tr>\n",
       "<tr><td>2061568157329376512</td><td>302.790321535523</td><td>37.82426655968013</td><td>-24.204767210466066</td><td>-12.432913305494269</td><td>40.80143772910702</td><td>20.1479</td><td>20.656479</td><td>18.52732</td><td>2.6022437</td><td>1.2262226</td><td>1.1425165</td><td>1.4932408</td><td>nan</td><td>nan</td></tr>\n",
       "<tr><td>2062090494058090624</td><td>303.66528092717556</td><td>38.83871418646031</td><td>-209.5451825272002</td><td>-250.2190668124997</td><td>21.652157507119146</td><td>15.339985</td><td>17.07953</td><td>14.075593</td><td>0.02630454</td><td>0.028537313</td><td>0.035668463</td><td>1.1544235</td><td>nan</td><td>nan</td></tr>\n",
       "<tr><td>2062086645766639360</td><td>303.795505608646</td><td>38.79240687863123</td><td>37.57267489360596</td><td>-3.6004085621494992</td><td>11.93502153087604</td><td>13.076068</td><td>14.104916</td><td>12.067883</td><td>0.010857461</td><td>0.010486168</td><td>0.012651689</td><td>0.98765403</td><td>-2.039972</td><td>1.3297917</td></tr>\n",
       "<tr><td>2060917830543284864</td><td>303.3750578820874</td><td>38.07283112638199</td><td>-22.943743994503137</td><td>-5.965564994342483</td><td>11.80582129536751</td><td>15.636205</td><td>16.6578</td><td>13.851152</td><td>0.05422925</td><td>0.059133258</td><td>0.065529376</td><td>1.386878</td><td>nan</td><td>nan</td></tr>\n",
       "<tr><td>2060917830555293824</td><td>303.3752770465698</td><td>38.07302657867787</td><td>-26.061923918464068</td><td>-4.854252725076821</td><td>11.999595577778209</td><td>15.935367</td><td>nan</td><td>nan</td><td>0.06573263</td><td>0.09422843</td><td>0.095924206</td><td>1.1356152</td><td>nan</td><td>nan</td></tr>\n",
       "<tr><td>2060715138141213824</td><td>303.40582663546536</td><td>36.90440920783438</td><td>98.88893208153631</td><td>29.31819500151483</td><td>13.226603390529101</td><td>12.359637</td><td>13.265699</td><td>11.422185</td><td>0.009869111</td><td>0.009775334</td><td>0.010838211</td><td>0.99010724</td><td>-22.042099</td><td>0.30497962</td></tr>\n",
       "<tr><td>2060523243319845888</td><td>303.70599259060117</td><td>36.82353055913549</td><td>47.773819008892495</td><td>46.64891673435511</td><td>12.582408941922921</td><td>17.05526</td><td>19.08753</td><td>15.72605</td><td>0.057462115</td><td>0.05795754</td><td>0.058930706</td><td>1.0479097</td><td>nan</td><td>nan</td></tr>\n",
       "<tr><td>...</td><td>...</td><td>...</td><td>...</td><td>...</td><td>...</td><td>...</td><td>...</td><td>...</td><td>...</td><td>...</td><td>...</td><td>...</td><td>...</td><td>...</td></tr>\n",
       "<tr><td>5793515921416734080</td><td>227.32898473595594</td><td>-73.93321579481683</td><td>12.83530427568257</td><td>-32.308418815965474</td><td>12.192600813895385</td><td>15.985822</td><td>17.613367</td><td>14.758539</td><td>0.036145467</td><td>0.031636205</td><td>0.036117997</td><td>1.000511</td><td>nan</td><td>nan</td></tr>\n",
       "<tr><td>5793480015489565824</td><td>226.71728518641993</td><td>-74.22408630787338</td><td>-9.135181213799669</td><td>-114.79413539554089</td><td>14.26707577789516</td><td>8.728497</td><td>9.020963</td><td>8.265144</td><td>0.012130048</td><td>0.010570806</td><td>0.012905712</td><td>1.0027049</td><td>-27.992798</td><td>0.32826498</td></tr>\n",
       "<tr><td>5793638070287609984</td><td>224.17364074001392</td><td>-74.06284323189003</td><td>52.031735813338926</td><td>115.88103987441922</td><td>15.625205249921674</td><td>16.009527</td><td>17.75908</td><td>14.744276</td><td>0.03610127</td><td>0.02966953</td><td>0.0386587</td><td>1.0061768</td><td>nan</td><td>nan</td></tr>\n",
       "<tr><td>5793434213960203520</td><td>225.59870264961287</td><td>-74.26162759135963</td><td>-132.74723001270038</td><td>-40.056061752016824</td><td>13.998218813534306</td><td>17.796272</td><td>20.240948</td><td>16.394226</td><td>0.10140156</td><td>0.09060277</td><td>0.10323431</td><td>0.9309171</td><td>nan</td><td>nan</td></tr>\n",
       "<tr><td>5793386007245688832</td><td>225.79209354902179</td><td>-74.36380779858162</td><td>-80.6664269140531</td><td>-107.77935868509702</td><td>11.915415238687844</td><td>15.728758</td><td>17.276142</td><td>14.528377</td><td>0.02939242</td><td>0.025599858</td><td>0.031076012</td><td>1.0066222</td><td>nan</td><td>nan</td></tr>\n",
       "<tr><td>5793472628145729792</td><td>227.56123303761706</td><td>-74.23091204107814</td><td>32.8050132101739</td><td>28.244749480463724</td><td>21.080556606880716</td><td>10.248583</td><td>10.856807</td><td>9.504984</td><td>0.011711767</td><td>0.01074379</td><td>0.012236203</td><td>1.0426563</td><td>-2.8562593</td><td>0.5239864</td></tr>\n",
       "<tr><td>5793469226531573376</td><td>227.58788454780802</td><td>-74.29768077076247</td><td>-0.023453764388955634</td><td>26.297526264236353</td><td>11.534778506736293</td><td>17.83268</td><td>17.983528</td><td>17.446281</td><td>0.088421054</td><td>0.08211824</td><td>0.087566316</td><td>1.0642557</td><td>nan</td><td>nan</td></tr>\n",
       "<tr><td>5793461182056631808</td><td>227.3431896986048</td><td>-74.4741833295707</td><td>-13.420048434113466</td><td>-8.189306920113651</td><td>13.507190983477873</td><td>17.56813</td><td>19.796661</td><td>16.176758</td><td>0.093614355</td><td>0.08023411</td><td>0.088989034</td><td>1.035042</td><td>nan</td><td>nan</td></tr>\n",
       "<tr><td>5792593461218012672</td><td>227.2978822199748</td><td>-74.9843713161825</td><td>-60.154289417444446</td><td>-28.74695968139844</td><td>15.600841380201482</td><td>12.381031</td><td>13.418789</td><td>11.370367</td><td>0.011504638</td><td>0.010202766</td><td>0.012675433</td><td>1.0750664</td><td>12.385044</td><td>0.3606598</td></tr>\n",
       "<tr><td>5792407888571443200</td><td>230.41554011777149</td><td>-75.56977375495059</td><td>83.8780043822171</td><td>4.998854075495785</td><td>14.174935502250015</td><td>12.264042</td><td>13.143205</td><td>11.342661</td><td>0.0105577465</td><td>0.008960874</td><td>0.010911327</td><td>1.0137922</td><td>45.67603</td><td>0.525703</td></tr>\n",
       "</table>"
      ],
      "text/plain": [
       "<Table length=219892>\n",
       "     SOURCE_ID              RA         ... DR2_RADIAL_VELOCITY_ERROR\n",
       "       int64             float64       ...          float32         \n",
       "------------------- ------------------ ... -------------------------\n",
       "2060772110911836800  302.3525977645142 ...                 7.9898043\n",
       "2059258495721163392 302.13302571238563 ...                0.19426277\n",
       "2061572898979115136 302.80354182430113 ...                 0.3772401\n",
       "2061568157329376512   302.790321535523 ...                       nan\n",
       "2062090494058090624 303.66528092717556 ...                       nan\n",
       "2062086645766639360   303.795505608646 ...                 1.3297917\n",
       "2060917830543284864  303.3750578820874 ...                       nan\n",
       "2060917830555293824  303.3752770465698 ...                       nan\n",
       "2060715138141213824 303.40582663546536 ...                0.30497962\n",
       "2060523243319845888 303.70599259060117 ...                       nan\n",
       "                ...                ... ...                       ...\n",
       "5793515921416734080 227.32898473595594 ...                       nan\n",
       "5793480015489565824 226.71728518641993 ...                0.32826498\n",
       "5793638070287609984 224.17364074001392 ...                       nan\n",
       "5793434213960203520 225.59870264961287 ...                       nan\n",
       "5793386007245688832 225.79209354902179 ...                       nan\n",
       "5793472628145729792 227.56123303761706 ...                 0.5239864\n",
       "5793469226531573376 227.58788454780802 ...                       nan\n",
       "5793461182056631808  227.3431896986048 ...                       nan\n",
       "5792593461218012672  227.2978822199748 ...                 0.3606598\n",
       "5792407888571443200 230.41554011777149 ...                  0.525703"
      ]
     },
     "execution_count": 6,
     "metadata": {},
     "output_type": "execute_result"
    }
   ],
   "source": [
    "data"
   ]
  },
  {
   "cell_type": "code",
   "execution_count": 8,
   "metadata": {},
   "outputs": [],
   "source": [
    "from math import cos, sin\n",
    "from astropy.coordinates import SkyCoord\n",
    "import numpy as np\n",
    "\n",
    "# ===================================================\n",
    "def uvw(ra, dec, d, pmra, pmde, rv):\n",
    "    \"\"\"\n",
    "    Function to calculate UVW given RA, Dec, Distance, RV, and PMs\n",
    "    Adapted from http://idlastro.gsfc.nasa.gov/ftp/pro/astro/gal_uvw.pro\n",
    "    :param ra: Right Ascension in degrees\n",
    "    :param dec: Declination in degrees\n",
    "    :param d: Distance in parsecs\n",
    "    :param pmra: Proper motion in RA in milli-arcseconds/year\n",
    "    :param pmde: Proper motion in Dec in milli-arcseconds/year\n",
    "    :param rv: Radial velocity in km/s\n",
    "    :return: U, V, W in km/s\n",
    "    \"\"\"\n",
    "    k = 4.74047  # Equivalent of 1 A.U/yr in km/s\n",
    "    A00 = 0.0548755604\n",
    "    A01 = 0.8734370902\n",
    "    A02 = 0.4838350155\n",
    "    A10 = 0.4941094279\n",
    "    A11 = -0.4448296300\n",
    "    A12 = 0.7469822445\n",
    "    A20 = -0.8676661490\n",
    "    A21 = -0.1980763734\n",
    "    A22 = 0.4559837762\n",
    "\n",
    "    # Set as arrays in case ra, dec, etc were lists\n",
    "    ra = np.array(ra)\n",
    "    dec = np.array(dec)\n",
    "    d = np.array(d)\n",
    "    rv = np.array(rv)\n",
    "    pmra = np.array(pmra)\n",
    "    pmde = np.array(pmde)\n",
    "\n",
    "    radcon = 3.1415926/180  # radian conversion factor\n",
    "\n",
    "    try:\n",
    "        cosd = cos(dec * radcon)\n",
    "        sind = sin(dec * radcon)\n",
    "        cosa = cos(ra * radcon)\n",
    "        sina = sin(ra * radcon)\n",
    "    except TypeError:  # For arrays\n",
    "        cosd = np.array(map(cos, dec * radcon))\n",
    "        sind = np.array(map(sin, dec * radcon))\n",
    "        cosa = np.array(map(cos, ra * radcon))\n",
    "        sina = np.array(map(sin, ra * radcon))\n",
    "\n",
    "    vec1 = rv\n",
    "    plx = 1000./d\n",
    "    vec2 = k * pmra/plx\n",
    "    vec3 = k * pmde/plx\n",
    "\n",
    "    u = (A00*cosa*cosd + A01*sina*cosd + A02*sind) * vec1 + \\\n",
    "        (-A00*sina + A01*cosa) * vec2 + \\\n",
    "        (-A00*cosa*sind - A01*sina*sind + A02*cosd) * vec3\n",
    "    v = (A10*cosa*cosd + A11*sina*cosd + A12*sind) * vec1 + \\\n",
    "        (-A10*sina + A11*cosa) * vec2 + \\\n",
    "        (-A10*cosa*sind - A11*sina*sind + A12*cosd) * vec3\n",
    "    w = (A20*cosa*cosd + A21*sina*cosd + A22*sind) * vec1 + \\\n",
    "        (-A20*sina + A21*cosa) * vec2 + \\\n",
    "        (-A20*cosa*sind - A21*sina*sind + A22*cosd) * vec3\n",
    "    u = -u  # Flipping U to be positive towards Galactic center\n",
    "\n",
    "    return u, v, w\n",
    "\n",
    "\n",
    "# ===================================================\n",
    "def xyz(ra, dec, d):\n",
    "    \"\"\"\n",
    "    Function to calculate XYZ given RA, Dec, and Distance\n",
    "    :param ra: Right Ascension in degrees\n",
    "    :param dec: Declination in degrees\n",
    "    :param d: Distance in parsecs\n",
    "    :return: X, Y, Z in parsecs\n",
    "    \"\"\"\n",
    "\n",
    "    ra = np.array(ra)\n",
    "    dec = np.array(dec)\n",
    "    d = np.array(d)\n",
    "\n",
    "    c = SkyCoord(ra=ra, dec=dec, frame='icrs', unit='deg')\n",
    "    l, b = c.galactic.l.radian, c.galactic.b.radian\n",
    "\n",
    "    try:\n",
    "        xgc = d * cos(b) * cos(l)\n",
    "        ygc = d * cos(b) * sin(l)\n",
    "        zgc = d * sin(b)\n",
    "    except TypeError:  # For arrays\n",
    "        xgc = d * map(cos, b) * map(cos, l)\n",
    "        ygc = d * map(cos, b) * map(sin, l)\n",
    "        zgc = d * map(sin, b)\n",
    "\n",
    "    return xgc, ygc, zgc\n",
    "\n",
    "# ==================================================="
   ]
  },
  {
   "cell_type": "code",
   "execution_count": 9,
   "metadata": {},
   "outputs": [],
   "source": [
    "data['DIST'] = 1.0e3/data['PARALLAX']"
   ]
  },
  {
   "cell_type": "code",
   "execution_count": 17,
   "metadata": {},
   "outputs": [
    {
     "ename": "SyntaxError",
     "evalue": "unexpected EOF while parsing (<ipython-input-17-b8a45ceeb0cd>, line 1)",
     "output_type": "error",
     "traceback": [
      "\u001b[0;36m  File \u001b[0;32m\"<ipython-input-17-b8a45ceeb0cd>\"\u001b[0;36m, line \u001b[0;32m1\u001b[0m\n\u001b[0;31m    data['U'],data['V'],data['W'] = np.array(uvw(data['RA']), np.array(data['DEC']), np.array(data['DIST']), np.array(data['PMRA']), np.array(data['PMDEC']), np.array(data['DR2_RADIAL_VELOCITY'])\u001b[0m\n\u001b[0m                                                                                                                                                                                                   ^\u001b[0m\n\u001b[0;31mSyntaxError\u001b[0m\u001b[0;31m:\u001b[0m unexpected EOF while parsing\n"
     ]
    }
   ],
   "source": [
    "data['U'],data['V'],data['W'] = np.array(uvw(data['RA']), np.array(data['DEC']), np.array(data['DIST']), np.array(data['PMRA']), np.array(data['PMDEC']), np.array(data['DR2_RADIAL_VELOCITY'])"
   ]
  },
  {
   "cell_type": "code",
   "execution_count": null,
   "metadata": {},
   "outputs": [],
   "source": []
  }
 ],
 "metadata": {
  "kernelspec": {
   "display_name": "Python 3",
   "language": "python",
   "name": "python3"
  },
  "language_info": {
   "codemirror_mode": {
    "name": "ipython",
    "version": 3
   },
   "file_extension": ".py",
   "mimetype": "text/x-python",
   "name": "python",
   "nbconvert_exporter": "python",
   "pygments_lexer": "ipython3",
   "version": "3.7.6"
  }
 },
 "nbformat": 4,
 "nbformat_minor": 4
}
